{
 "cells": [
  {
   "cell_type": "markdown",
   "id": "d94dac9c",
   "metadata": {},
   "source": [
    "# Contextualized Token Embeddings"
   ]
  },
  {
   "cell_type": "code",
   "execution_count": 1,
   "id": "ef485286",
   "metadata": {},
   "outputs": [
    {
     "name": "stdout",
     "output_type": "stream",
     "text": [
      "Collecting scipy==1.10.1 (from -r requirements.txt (line 8))\n",
      "  Using cached scipy-1.10.1-cp39-cp39-win_amd64.whl (42.5 MB)\n",
      "Collecting numpy==1.26.4 (from -r requirements.txt (line 9))\n",
      "  Using cached numpy-1.26.4-cp39-cp39-win_amd64.whl (15.8 MB)\n",
      "Collecting pandas==2.2.2 (from -r requirements.txt (line 10))\n",
      "  Using cached pandas-2.2.2-cp39-cp39-win_amd64.whl (11.6 MB)\n",
      "Collecting scikit-learn==1.5.0 (from -r requirements.txt (line 11))\n",
      "  Using cached scikit_learn-1.5.0-cp39-cp39-win_amd64.whl (11.0 MB)\n",
      "Collecting matplotlib==3.9.0 (from -r requirements.txt (line 12))\n",
      "  Using cached matplotlib-3.9.0-cp39-cp39-win_amd64.whl (7.9 MB)\n",
      "Collecting gensim==4.3.2 (from -r requirements.txt (line 13))\n",
      "  Using cached gensim-4.3.2-cp39-cp39-win_amd64.whl (24.0 MB)\n",
      "Requirement already satisfied: transformers==4.41.2 in c:\\users\\vmude\\anaconda3\\lib\\site-packages (from -r requirements.txt (line 14)) (4.41.2)\n",
      "Collecting torch==2.3.0 (from -r requirements.txt (line 15))\n",
      "  Using cached torch-2.3.0-cp39-cp39-win_amd64.whl (159.7 MB)\n",
      "Collecting pytorch_transformers==1.2.0 (from -r requirements.txt (line 16))\n",
      "  Using cached pytorch_transformers-1.2.0-py3-none-any.whl (176 kB)\n",
      "Collecting sentence-transformers==3.0.0 (from -r requirements.txt (line 17))\n",
      "  Using cached sentence_transformers-3.0.0-py3-none-any.whl (224 kB)\n",
      "Collecting seaborn==0.13.2 (from -r requirements.txt (line 18))\n",
      "  Using cached seaborn-0.13.2-py3-none-any.whl (294 kB)\n",
      "Collecting botocore==1.34.116 (from -r requirements.txt (line 19))\n",
      "  Using cached botocore-1.34.116-py3-none-any.whl (12.3 MB)\n",
      "Collecting boto3==1.34.116 (from -r requirements.txt (line 20))\n",
      "  Using cached boto3-1.34.116-py3-none-any.whl (139 kB)\n",
      "Collecting datasets==2.19.1 (from -r requirements.txt (line 21))\n",
      "  Using cached datasets-2.19.1-py3-none-any.whl (542 kB)\n",
      "Collecting pickle5==0.0.11 (from -r requirements.txt (line 22))\n",
      "  Using cached pickle5-0.0.11.tar.gz (132 kB)\n",
      "  Preparing metadata (setup.py): started\n",
      "  Preparing metadata (setup.py): finished with status 'done'\n",
      "Requirement already satisfied: python-dateutil>=2.8.2 in c:\\users\\vmude\\anaconda3\\lib\\site-packages (from pandas==2.2.2->-r requirements.txt (line 10)) (2.8.2)\n",
      "Requirement already satisfied: pytz>=2020.1 in c:\\users\\vmude\\anaconda3\\lib\\site-packages (from pandas==2.2.2->-r requirements.txt (line 10)) (2022.1)\n",
      "Collecting tzdata>=2022.7 (from pandas==2.2.2->-r requirements.txt (line 10))\n",
      "  Using cached tzdata-2024.2-py2.py3-none-any.whl (346 kB)\n",
      "Collecting joblib>=1.2.0 (from scikit-learn==1.5.0->-r requirements.txt (line 11))\n",
      "  Using cached joblib-1.4.2-py3-none-any.whl (301 kB)\n",
      "Collecting threadpoolctl>=3.1.0 (from scikit-learn==1.5.0->-r requirements.txt (line 11))\n",
      "  Using cached threadpoolctl-3.5.0-py3-none-any.whl (18 kB)\n",
      "Collecting contourpy>=1.0.1 (from matplotlib==3.9.0->-r requirements.txt (line 12))\n",
      "  Using cached contourpy-1.3.0-cp39-cp39-win_amd64.whl (211 kB)\n",
      "Requirement already satisfied: cycler>=0.10 in c:\\users\\vmude\\anaconda3\\lib\\site-packages (from matplotlib==3.9.0->-r requirements.txt (line 12)) (0.11.0)\n",
      "Requirement already satisfied: fonttools>=4.22.0 in c:\\users\\vmude\\anaconda3\\lib\\site-packages (from matplotlib==3.9.0->-r requirements.txt (line 12)) (4.25.0)\n",
      "Requirement already satisfied: kiwisolver>=1.3.1 in c:\\users\\vmude\\anaconda3\\lib\\site-packages (from matplotlib==3.9.0->-r requirements.txt (line 12)) (1.4.2)\n",
      "Requirement already satisfied: packaging>=20.0 in c:\\users\\vmude\\anaconda3\\lib\\site-packages (from matplotlib==3.9.0->-r requirements.txt (line 12)) (24.1)\n",
      "Requirement already satisfied: pillow>=8 in c:\\users\\vmude\\anaconda3\\lib\\site-packages (from matplotlib==3.9.0->-r requirements.txt (line 12)) (9.5.0)\n",
      "Requirement already satisfied: pyparsing>=2.3.1 in c:\\users\\vmude\\anaconda3\\lib\\site-packages (from matplotlib==3.9.0->-r requirements.txt (line 12)) (3.0.9)\n",
      "Collecting importlib-resources>=3.2.0 (from matplotlib==3.9.0->-r requirements.txt (line 12))\n",
      "  Using cached importlib_resources-6.4.5-py3-none-any.whl (36 kB)\n",
      "Requirement already satisfied: smart-open>=1.8.1 in c:\\users\\vmude\\anaconda3\\lib\\site-packages (from gensim==4.3.2->-r requirements.txt (line 13)) (5.2.1)\n",
      "Requirement already satisfied: filelock in c:\\users\\vmude\\anaconda3\\lib\\site-packages (from transformers==4.41.2->-r requirements.txt (line 14)) (3.6.0)\n",
      "Requirement already satisfied: huggingface-hub<1.0,>=0.23.0 in c:\\users\\vmude\\anaconda3\\lib\\site-packages (from transformers==4.41.2->-r requirements.txt (line 14)) (0.23.4)\n",
      "Requirement already satisfied: pyyaml>=5.1 in c:\\users\\vmude\\anaconda3\\lib\\site-packages (from transformers==4.41.2->-r requirements.txt (line 14)) (6.0)\n",
      "Requirement already satisfied: regex!=2019.12.17 in c:\\users\\vmude\\anaconda3\\lib\\site-packages (from transformers==4.41.2->-r requirements.txt (line 14)) (2021.11.10)\n",
      "Requirement already satisfied: requests in c:\\users\\vmude\\anaconda3\\lib\\site-packages (from transformers==4.41.2->-r requirements.txt (line 14)) (2.31.0)\n",
      "Requirement already satisfied: tokenizers<0.20,>=0.19 in c:\\users\\vmude\\anaconda3\\lib\\site-packages (from transformers==4.41.2->-r requirements.txt (line 14)) (0.19.1)\n",
      "Requirement already satisfied: safetensors>=0.4.1 in c:\\users\\vmude\\anaconda3\\lib\\site-packages (from transformers==4.41.2->-r requirements.txt (line 14)) (0.4.3)\n",
      "Requirement already satisfied: tqdm>=4.27 in c:\\users\\vmude\\anaconda3\\lib\\site-packages (from transformers==4.41.2->-r requirements.txt (line 14)) (4.64.1)\n",
      "Requirement already satisfied: typing-extensions>=4.8.0 in c:\\users\\vmude\\anaconda3\\lib\\site-packages (from torch==2.3.0->-r requirements.txt (line 15)) (4.12.2)\n",
      "Requirement already satisfied: sympy in c:\\users\\vmude\\anaconda3\\lib\\site-packages (from torch==2.3.0->-r requirements.txt (line 15)) (1.10.1)\n",
      "Requirement already satisfied: networkx in c:\\users\\vmude\\anaconda3\\lib\\site-packages (from torch==2.3.0->-r requirements.txt (line 15)) (3.1)\n",
      "Requirement already satisfied: jinja2 in c:\\users\\vmude\\anaconda3\\lib\\site-packages (from torch==2.3.0->-r requirements.txt (line 15)) (3.1.4)\n",
      "Requirement already satisfied: fsspec in c:\\users\\vmude\\anaconda3\\lib\\site-packages (from torch==2.3.0->-r requirements.txt (line 15)) (2023.10.0)\n",
      "Collecting mkl<=2021.4.0,>=2021.1.1 (from torch==2.3.0->-r requirements.txt (line 15))\n",
      "  Using cached mkl-2021.4.0-py2.py3-none-win_amd64.whl (228.5 MB)\n",
      "Requirement already satisfied: sentencepiece in c:\\users\\vmude\\anaconda3\\lib\\site-packages (from pytorch_transformers==1.2.0->-r requirements.txt (line 16)) (0.2.0)\n",
      "Collecting sacremoses (from pytorch_transformers==1.2.0->-r requirements.txt (line 16))\n",
      "  Using cached sacremoses-0.1.1-py3-none-any.whl (897 kB)\n",
      "Requirement already satisfied: jmespath<2.0.0,>=0.7.1 in c:\\users\\vmude\\anaconda3\\lib\\site-packages (from botocore==1.34.116->-r requirements.txt (line 19)) (0.10.0)\n",
      "Collecting urllib3<1.27,>=1.25.4 (from botocore==1.34.116->-r requirements.txt (line 19))\n",
      "  Using cached urllib3-1.26.20-py2.py3-none-any.whl (144 kB)\n",
      "Collecting s3transfer<0.11.0,>=0.10.0 (from boto3==1.34.116->-r requirements.txt (line 20))\n",
      "  Using cached s3transfer-0.10.3-py3-none-any.whl (82 kB)\n",
      "Requirement already satisfied: pyarrow>=12.0.0 in c:\\users\\vmude\\anaconda3\\lib\\site-packages (from datasets==2.19.1->-r requirements.txt (line 21)) (12.0.1)\n",
      "Requirement already satisfied: pyarrow-hotfix in c:\\users\\vmude\\anaconda3\\lib\\site-packages (from datasets==2.19.1->-r requirements.txt (line 21)) (0.6)\n",
      "Requirement already satisfied: dill<0.3.9,>=0.3.0 in c:\\users\\vmude\\anaconda3\\lib\\site-packages (from datasets==2.19.1->-r requirements.txt (line 21)) (0.3.7)\n",
      "Requirement already satisfied: xxhash in c:\\users\\vmude\\anaconda3\\lib\\site-packages (from datasets==2.19.1->-r requirements.txt (line 21)) (3.2.0)\n",
      "Requirement already satisfied: multiprocess in c:\\users\\vmude\\anaconda3\\lib\\site-packages (from datasets==2.19.1->-r requirements.txt (line 21)) (0.70.15)\n",
      "Requirement already satisfied: aiohttp in c:\\users\\vmude\\anaconda3\\lib\\site-packages (from datasets==2.19.1->-r requirements.txt (line 21)) (3.8.4)\n",
      "Requirement already satisfied: attrs>=17.3.0 in c:\\users\\vmude\\anaconda3\\lib\\site-packages (from aiohttp->datasets==2.19.1->-r requirements.txt (line 21)) (21.4.0)\n",
      "Requirement already satisfied: charset-normalizer<4.0,>=2.0 in c:\\users\\vmude\\anaconda3\\lib\\site-packages (from aiohttp->datasets==2.19.1->-r requirements.txt (line 21)) (2.0.4)\n",
      "Requirement already satisfied: multidict<7.0,>=4.5 in c:\\users\\vmude\\anaconda3\\lib\\site-packages (from aiohttp->datasets==2.19.1->-r requirements.txt (line 21)) (6.0.4)\n",
      "Requirement already satisfied: async-timeout<5.0,>=4.0.0a3 in c:\\users\\vmude\\anaconda3\\lib\\site-packages (from aiohttp->datasets==2.19.1->-r requirements.txt (line 21)) (4.0.2)\n",
      "Requirement already satisfied: yarl<2.0,>=1.0 in c:\\users\\vmude\\anaconda3\\lib\\site-packages (from aiohttp->datasets==2.19.1->-r requirements.txt (line 21)) (1.9.2)\n",
      "Requirement already satisfied: frozenlist>=1.1.1 in c:\\users\\vmude\\anaconda3\\lib\\site-packages (from aiohttp->datasets==2.19.1->-r requirements.txt (line 21)) (1.3.3)\n",
      "Requirement already satisfied: aiosignal>=1.1.2 in c:\\users\\vmude\\anaconda3\\lib\\site-packages (from aiohttp->datasets==2.19.1->-r requirements.txt (line 21)) (1.3.1)\n",
      "Requirement already satisfied: zipp>=3.1.0 in c:\\users\\vmude\\anaconda3\\lib\\site-packages (from importlib-resources>=3.2.0->matplotlib==3.9.0->-r requirements.txt (line 12)) (3.8.0)\n",
      "Collecting intel-openmp==2021.* (from mkl<=2021.4.0,>=2021.1.1->torch==2.3.0->-r requirements.txt (line 15))\n",
      "  Using cached intel_openmp-2021.4.0-py2.py3-none-win_amd64.whl (3.5 MB)\n",
      "Collecting tbb==2021.* (from mkl<=2021.4.0,>=2021.1.1->torch==2.3.0->-r requirements.txt (line 15))\n",
      "  Using cached tbb-2021.13.1-py3-none-win_amd64.whl (286 kB)\n",
      "Requirement already satisfied: six>=1.5 in c:\\users\\vmude\\anaconda3\\lib\\site-packages (from python-dateutil>=2.8.2->pandas==2.2.2->-r requirements.txt (line 10)) (1.16.0)\n",
      "Requirement already satisfied: idna<4,>=2.5 in c:\\users\\vmude\\anaconda3\\lib\\site-packages (from requests->transformers==4.41.2->-r requirements.txt (line 14)) (2.6)\n",
      "Requirement already satisfied: certifi>=2017.4.17 in c:\\users\\vmude\\anaconda3\\lib\\site-packages (from requests->transformers==4.41.2->-r requirements.txt (line 14)) (2022.9.14)\n",
      "Requirement already satisfied: colorama in c:\\users\\vmude\\anaconda3\\lib\\site-packages (from tqdm>=4.27->transformers==4.41.2->-r requirements.txt (line 14)) (0.4.5)\n",
      "Requirement already satisfied: MarkupSafe>=2.0 in c:\\users\\vmude\\anaconda3\\lib\\site-packages (from jinja2->torch==2.3.0->-r requirements.txt (line 15)) (2.1.3)\n",
      "Requirement already satisfied: click in c:\\users\\vmude\\anaconda3\\lib\\site-packages (from sacremoses->pytorch_transformers==1.2.0->-r requirements.txt (line 16)) (8.0.4)\n",
      "Requirement already satisfied: mpmath>=0.19 in c:\\users\\vmude\\anaconda3\\lib\\site-packages (from sympy->torch==2.3.0->-r requirements.txt (line 15)) (1.2.1)\n",
      "Building wheels for collected packages: pickle5\n",
      "  Building wheel for pickle5 (setup.py): started\n",
      "  Building wheel for pickle5 (setup.py): finished with status 'error'\n",
      "  Running setup.py clean for pickle5\n",
      "Failed to build pickle5\n"
     ]
    },
    {
     "name": "stderr",
     "output_type": "stream",
     "text": [
      "  error: subprocess-exited-with-error\n",
      "  \n",
      "  python setup.py bdist_wheel did not run successfully.\n",
      "  exit code: 1\n",
      "  \n",
      "  [38 lines of output]\n",
      "  running bdist_wheel\n",
      "  running build\n",
      "  running build_py\n",
      "  creating build\n",
      "  creating build\\lib.win-amd64-cpython-39\n",
      "  creating build\\lib.win-amd64-cpython-39\\pickle5\n",
      "  copying pickle5\\pickle.py -> build\\lib.win-amd64-cpython-39\\pickle5\n",
      "  copying pickle5\\pickletools.py -> build\\lib.win-amd64-cpython-39\\pickle5\n",
      "  copying pickle5\\__init__.py -> build\\lib.win-amd64-cpython-39\\pickle5\n",
      "  creating build\\lib.win-amd64-cpython-39\\pickle5\\test\n",
      "  copying pickle5\\test\\pickletester.py -> build\\lib.win-amd64-cpython-39\\pickle5\\test\n",
      "  copying pickle5\\test\\test_pickle.py -> build\\lib.win-amd64-cpython-39\\pickle5\\test\n",
      "  copying pickle5\\test\\test_picklebuffer.py -> build\\lib.win-amd64-cpython-39\\pickle5\\test\n",
      "  copying pickle5\\test\\__init__.py -> build\\lib.win-amd64-cpython-39\\pickle5\\test\n",
      "  running build_ext\n",
      "  building 'pickle5._pickle' extension\n",
      "  creating build\\temp.win-amd64-cpython-39\n",
      "  creating build\\temp.win-amd64-cpython-39\\Release\n",
      "  creating build\\temp.win-amd64-cpython-39\\Release\\pickle5\n",
      "  \"C:\\Program Files\\Microsoft Visual Studio\\2022\\Community\\VC\\Tools\\MSVC\\14.36.32532\\bin\\HostX86\\x64\\cl.exe\" /c /nologo /O2 /W3 /GL /DNDEBUG /MD -IC:\\Users\\vmude\\anaconda3\\include -IC:\\Users\\vmude\\anaconda3\\Include \"-IC:\\Program Files\\Microsoft Visual Studio\\2022\\Community\\VC\\Tools\\MSVC\\14.36.32532\\include\" \"-IC:\\Program Files\\Microsoft Visual Studio\\2022\\Community\\VC\\Tools\\MSVC\\14.36.32532\\ATLMFC\\include\" \"-IC:\\Program Files\\Microsoft Visual Studio\\2022\\Community\\VC\\Auxiliary\\VS\\include\" \"-IC:\\Program Files (x86)\\Windows Kits\\10\\include\\10.0.22000.0\\ucrt\" \"-IC:\\Program Files (x86)\\Windows Kits\\10\\\\include\\10.0.22000.0\\\\um\" \"-IC:\\Program Files (x86)\\Windows Kits\\10\\\\include\\10.0.22000.0\\\\shared\" \"-IC:\\Program Files (x86)\\Windows Kits\\10\\\\include\\10.0.22000.0\\\\winrt\" \"-IC:\\Program Files (x86)\\Windows Kits\\10\\\\include\\10.0.22000.0\\\\cppwinrt\" \"-IC:\\Program Files (x86)\\Windows Kits\\NETFXSDK\\4.8\\include\\um\" /Tcpickle5/_pickle.c /Fobuild\\temp.win-amd64-cpython-39\\Release\\pickle5/_pickle.obj\n",
      "  _pickle.c\n",
      "  \"C:\\Program Files\\Microsoft Visual Studio\\2022\\Community\\VC\\Tools\\MSVC\\14.36.32532\\bin\\HostX86\\x64\\cl.exe\" /c /nologo /O2 /W3 /GL /DNDEBUG /MD -IC:\\Users\\vmude\\anaconda3\\include -IC:\\Users\\vmude\\anaconda3\\Include \"-IC:\\Program Files\\Microsoft Visual Studio\\2022\\Community\\VC\\Tools\\MSVC\\14.36.32532\\include\" \"-IC:\\Program Files\\Microsoft Visual Studio\\2022\\Community\\VC\\Tools\\MSVC\\14.36.32532\\ATLMFC\\include\" \"-IC:\\Program Files\\Microsoft Visual Studio\\2022\\Community\\VC\\Auxiliary\\VS\\include\" \"-IC:\\Program Files (x86)\\Windows Kits\\10\\include\\10.0.22000.0\\ucrt\" \"-IC:\\Program Files (x86)\\Windows Kits\\10\\\\include\\10.0.22000.0\\\\um\" \"-IC:\\Program Files (x86)\\Windows Kits\\10\\\\include\\10.0.22000.0\\\\shared\" \"-IC:\\Program Files (x86)\\Windows Kits\\10\\\\include\\10.0.22000.0\\\\winrt\" \"-IC:\\Program Files (x86)\\Windows Kits\\10\\\\include\\10.0.22000.0\\\\cppwinrt\" \"-IC:\\Program Files (x86)\\Windows Kits\\NETFXSDK\\4.8\\include\\um\" /Tcpickle5/picklebufobject.c /Fobuild\\temp.win-amd64-cpython-39\\Release\\pickle5/picklebufobject.obj\n",
      "  picklebufobject.c\n",
      "  pickle5/picklebufobject.c(19): warning C4273: 'PyPickleBuffer_FromObject': inconsistent dll linkage\n",
      "  C:\\Users\\vmude\\anaconda3\\include\\picklebufobject.h(18): note: see previous definition of 'PyPickleBuffer_FromObject'\n",
      "  pickle5/picklebufobject.c(38): warning C4273: 'PyPickleBuffer_GetBuffer': inconsistent dll linkage\n",
      "  C:\\Users\\vmude\\anaconda3\\include\\picklebufobject.h(22): note: see previous definition of 'PyPickleBuffer_GetBuffer'\n",
      "  pickle5/picklebufobject.c(57): warning C4273: 'PyPickleBuffer_Release': inconsistent dll linkage\n",
      "  C:\\Users\\vmude\\anaconda3\\include\\picklebufobject.h(24): note: see previous definition of 'PyPickleBuffer_Release'\n",
      "  pickle5/picklebufobject.c(208): warning C4273: 'PyPickleBuffer_Type': inconsistent dll linkage\n",
      "  C:\\Users\\vmude\\anaconda3\\include\\picklebufobject.h(13): note: see previous definition of 'PyPickleBuffer_Type'\n",
      "  \"C:\\Program Files\\Microsoft Visual Studio\\2022\\Community\\VC\\Tools\\MSVC\\14.36.32532\\bin\\HostX86\\x64\\link.exe\" /nologo /INCREMENTAL:NO /LTCG /DLL /MANIFEST:EMBED,ID=2 /MANIFESTUAC:NO /LIBPATH:C:\\Users\\vmude\\anaconda3\\libs /LIBPATH:C:\\Users\\vmude\\anaconda3 /LIBPATH:C:\\Users\\vmude\\anaconda3\\PCbuild\\amd64 \"/LIBPATH:C:\\Program Files\\Microsoft Visual Studio\\2022\\Community\\VC\\Tools\\MSVC\\14.36.32532\\ATLMFC\\lib\\x64\" \"/LIBPATH:C:\\Program Files\\Microsoft Visual Studio\\2022\\Community\\VC\\Tools\\MSVC\\14.36.32532\\lib\\x64\" \"/LIBPATH:C:\\Program Files (x86)\\Windows Kits\\NETFXSDK\\4.8\\lib\\um\\x64\" \"/LIBPATH:C:\\Program Files (x86)\\Windows Kits\\10\\lib\\10.0.22000.0\\ucrt\\x64\" \"/LIBPATH:C:\\Program Files (x86)\\Windows Kits\\10\\\\lib\\10.0.22000.0\\\\um\\x64\" /EXPORT:PyInit__pickle build\\temp.win-amd64-cpython-39\\Release\\pickle5/_pickle.obj build\\temp.win-amd64-cpython-39\\Release\\pickle5/picklebufobject.obj /OUT:build\\lib.win-amd64-cpython-39\\pickle5\\_pickle.cp39-win_amd64.pyd /IMPLIB:build\\temp.win-amd64-cpython-39\\Release\\pickle5\\_pickle.cp39-win_amd64.lib\n",
      "     Creating library build\\temp.win-amd64-cpython-39\\Release\\pickle5\\_pickle.cp39-win_amd64.lib and object build\\temp.win-amd64-cpython-39\\Release\\pickle5\\_pickle.cp39-win_amd64.exp\n",
      "  Generating code\n",
      "  Finished generating code\n",
      "  picklebufobject.obj : error LNK2005: PyPickleBuffer_GetBuffer already defined in python39.lib(python39.dll)\n",
      "  build\\lib.win-amd64-cpython-39\\pickle5\\_pickle.cp39-win_amd64.pyd : fatal error LNK1169: one or more multiply defined symbols found\n",
      "  error: command 'C:\\\\Program Files\\\\Microsoft Visual Studio\\\\2022\\\\Community\\\\VC\\\\Tools\\\\MSVC\\\\14.36.32532\\\\bin\\\\HostX86\\\\x64\\\\link.exe' failed with exit code 1169\n",
      "  [end of output]\n",
      "  \n",
      "  note: This error originates from a subprocess, and is likely not a problem with pip.\n",
      "  ERROR: Failed building wheel for pickle5\n",
      "ERROR: Could not build wheels for pickle5, which is required to install pyproject.toml-based projects\n",
      "\n",
      "[notice] A new release of pip is available: 23.1.2 -> 24.2\n",
      "[notice] To update, run: python.exe -m pip install --upgrade pip\n"
     ]
    }
   ],
   "source": [
    "!pip install -r requirements.txt"
   ]
  },
  {
   "cell_type": "code",
   "execution_count": 2,
   "id": "c445be14",
   "metadata": {},
   "outputs": [],
   "source": [
    "import warnings\n",
    "warnings.filterwarnings('ignore')"
   ]
  },
  {
   "cell_type": "code",
   "execution_count": 3,
   "id": "73b006d1",
   "metadata": {},
   "outputs": [],
   "source": [
    "import numpy as np\n",
    "import matplotlib.pyplot as plt\n",
    "from sklearn.decomposition import PCA\n",
    "import torch\n",
    "from transformers import BertTokenizer, BertModel\n",
    "from sklearn.metrics.pairwise import cosine_similarity"
   ]
  },
  {
   "cell_type": "markdown",
   "id": "a853729d",
   "metadata": {},
   "source": [
    "## GloVe word Embeddings"
   ]
  },
  {
   "cell_type": "code",
   "execution_count": 4,
   "id": "e2bf5e64",
   "metadata": {},
   "outputs": [],
   "source": [
    "import gensim.downloader as api\n",
    "word_vectors = api.load('glove-wiki-gigaword-100')"
   ]
  },
  {
   "cell_type": "code",
   "execution_count": 5,
   "id": "3b4abe67",
   "metadata": {},
   "outputs": [
    {
     "data": {
      "text/plain": [
       "(100,)"
      ]
     },
     "execution_count": 5,
     "metadata": {},
     "output_type": "execute_result"
    }
   ],
   "source": [
    "word_vectors['prince'].shape"
   ]
  },
  {
   "cell_type": "code",
   "execution_count": 6,
   "id": "5866eacf",
   "metadata": {},
   "outputs": [],
   "source": [
    "# Words to visualize\n",
    "words = [\"king\", \"princess\", \"monarch\", \"throne\", \"crown\", \n",
    "         \"mountain\", \"ocean\", \"tv\", \"rainbow\", \"cloud\", \"queen\"]\n",
    "\n",
    "# Get word vectors\n",
    "vectors = np.array([word_vectors[word] for word in words])"
   ]
  },
  {
   "cell_type": "code",
   "execution_count": 7,
   "id": "39764743",
   "metadata": {},
   "outputs": [],
   "source": [
    "# Reduce dimensions to 2 using PCA\n",
    "pca = PCA(n_components = 2)\n",
    "vectors_pca = pca.fit_transform(vectors)"
   ]
  },
  {
   "cell_type": "code",
   "execution_count": 8,
   "id": "04ab3a85",
   "metadata": {},
   "outputs": [
    {
     "data": {
      "image/png": "[encoded data removed]",
      "text/plain": [
       "<Figure size 500x500 with 1 Axes>"
      ]
     },
     "metadata": {},
     "output_type": "display_data"
    }
   ],
   "source": [
    "# Plotting\n",
    "fig, axes = plt.subplots(1, 1, figsize=(5, 5))\n",
    "axes.scatter(vectors_pca[:, 0], vectors_pca[:, 1])\n",
    "for i, word in enumerate(words):\n",
    "    axes.annotate(word, (vectors_pca[i, 0] + .02, vectors_pca[i, 1] + .02))\n",
    "axes.set_title('PCA of Word Embeddings')\n",
    "plt.show()"
   ]
  },
  {
   "cell_type": "markdown",
   "id": "69103208",
   "metadata": {},
   "source": [
    "## Word2Vec algebra"
   ]
  },
  {
   "cell_type": "code",
   "execution_count": 9,
   "id": "2fa5c011",
   "metadata": {},
   "outputs": [
    {
     "name": "stdout",
     "output_type": "stream",
     "text": [
      "\n",
      "    The word closest to 'king' - 'man' + 'woman' is: 'queen'\n",
      "    with a similarity score of 0.7698540687561035\n"
     ]
    }
   ],
   "source": [
    "result = word_vectors.most_similar(positive = ['king','woman'],\n",
    "                                  negative = ['man'], topn=1)\n",
    "\n",
    "print(f\"\"\"\n",
    "    The word closest to 'king' - 'man' + 'woman' is: '{result[0][0]}'\n",
    "    with a similarity score of {result[0][1]}\"\"\")"
   ]
  },
  {
   "cell_type": "markdown",
   "id": "aba9c551",
   "metadata": {},
   "source": [
    "## GloVe vs BERT: words in context"
   ]
  },
  {
   "cell_type": "code",
   "execution_count": 10,
   "id": "9ba0aea2",
   "metadata": {},
   "outputs": [],
   "source": [
    "tokenizer = BertTokenizer.from_pretrained('bert-base-uncased')\n",
    "model = BertModel.from_pretrained('bert-base-uncased')\n",
    "\n",
    "# Function to get BERT embeddings\n",
    "def get_bert_embeddings(sentence, word):\n",
    "    inputs = tokenizer(sentence, return_tensors = 'pt')\n",
    "    outputs = model(**inputs)\n",
    "    last_hidden_states = outputs.last_hidden_state\n",
    "    word_tokens = tokenizer.tokenize(sentence)\n",
    "    word_index = word_tokens.index(word)\n",
    "    word_embedding = last_hidden_states[0, word_index + 1, :] # +1 to account for [CLS] token\n",
    "    return word_embedding"
   ]
  },
  {
   "cell_type": "code",
   "execution_count": 11,
   "id": "81a65d7b",
   "metadata": {},
   "outputs": [],
   "source": [
    "sentence1 = \"The bat flew out of the cave at night.\"\n",
    "sentence2 = \"He swung the bat and hit a home run.\"\n",
    "\n",
    "word = \"bat\"\n",
    "bert_embedding1 = get_bert_embeddings(sentence1,word).detach().numpy()\n",
    "bert_embedding2 = get_bert_embeddings(sentence2,word).detach().numpy()\n",
    "word_embedding = word_vectors[word]"
   ]
  },
  {
   "cell_type": "code",
   "execution_count": 12,
   "id": "e310ff67",
   "metadata": {},
   "outputs": [
    {
     "name": "stdout",
     "output_type": "stream",
     "text": [
      "BERT Embedding for 'bat' in sentence 1: [ 0.41316164 -0.12908185 -0.44865698 -0.4049265  -0.15305701]\n",
      "BERT Embedding for 'bat' in sentence 2: [ 0.6406692  -0.31121525 -0.44089818 -0.16551183 -0.2005609 ]\n",
      "GloVe Embedding for 'bat': [-0.47601  0.81705  0.11151 -0.22687 -0.80672]\n",
      "\n",
      "Cosine Similarity between BERT embeddings in different contexts: 0.4599575400352478\n",
      "Cosine Similarity between GloVe embeddings: 1.0\n"
     ]
    }
   ],
   "source": [
    "print(\"BERT Embedding for 'bat' in sentence 1:\", bert_embedding1[:5])\n",
    "print(\"BERT Embedding for 'bat' in sentence 2:\", bert_embedding2[:5])\n",
    "print(\"GloVe Embedding for 'bat':\", word_embedding[:5])\n",
    "\n",
    "bert_similarity = cosine_similarity([bert_embedding1], [bert_embedding2])[0][0]\n",
    "word_embedding_similarity = cosine_similarity([word_embedding], [word_embedding])[0][0]\n",
    "\n",
    "print()\n",
    "print(f\"Cosine Similarity between BERT embeddings in different contexts: {bert_similarity}\")\n",
    "print(f\"Cosine Similarity between GloVe embeddings: {word_embedding_similarity}\")\n"
   ]
  },
  {
   "cell_type": "markdown",
   "id": "d05972ce",
   "metadata": {},
   "source": [
    "## Cross Encoder"
   ]
  },
  {
   "cell_type": "code",
   "execution_count": 13,
   "id": "2770e9d0",
   "metadata": {},
   "outputs": [
    {
     "data": {
      "application/vnd.jupyter.widget-view+json": {
       "model_id": "eb8c468a477c4c7aba6f1afc83762e5a",
       "version_major": 2,
       "version_minor": 0
      },
      "text/plain": [
       "config.json:   0%|          | 0.00/794 [00:00<?, ?B/s]"
      ]
     },
     "metadata": {},
     "output_type": "display_data"
    },
    {
     "data": {
      "application/vnd.jupyter.widget-view+json": {
       "model_id": "eb299813c53349cb99835449e9af232b",
       "version_major": 2,
       "version_minor": 0
      },
      "text/plain": [
       "pytorch_model.bin:   0%|          | 0.00/90.9M [00:00<?, ?B/s]"
      ]
     },
     "metadata": {},
     "output_type": "display_data"
    },
    {
     "data": {
      "application/vnd.jupyter.widget-view+json": {
       "model_id": "38fe141ca2a04f1688e82a76b96a5c78",
       "version_major": 2,
       "version_minor": 0
      },
      "text/plain": [
       "tokenizer_config.json:   0%|          | 0.00/316 [00:00<?, ?B/s]"
      ]
     },
     "metadata": {},
     "output_type": "display_data"
    },
    {
     "data": {
      "application/vnd.jupyter.widget-view+json": {
       "model_id": "b5ea977b5b08426e8f79d5ce86003e8f",
       "version_major": 2,
       "version_minor": 0
      },
      "text/plain": [
       "vocab.txt:   0%|          | 0.00/232k [00:00<?, ?B/s]"
      ]
     },
     "metadata": {},
     "output_type": "display_data"
    },
    {
     "data": {
      "application/vnd.jupyter.widget-view+json": {
       "model_id": "1399b70950ee41d2b1542ac37ed6f42e",
       "version_major": 2,
       "version_minor": 0
      },
      "text/plain": [
       "special_tokens_map.json:   0%|          | 0.00/112 [00:00<?, ?B/s]"
      ]
     },
     "metadata": {},
     "output_type": "display_data"
    }
   ],
   "source": [
    "from sentence_transformers import CrossEncoder\n",
    "model = CrossEncoder('cross-encoder/ms-marco-MiniLM-L-6-v2', max_length=512, \n",
    "                     default_activation_function=torch.nn.Sigmoid())"
   ]
  },
  {
   "cell_type": "code",
   "execution_count": 14,
   "id": "99a58bee",
   "metadata": {},
   "outputs": [],
   "source": [
    "question = 'Where is the capital of France'\n",
    "\n",
    "#Define sentences to compare\n",
    "answers = [\n",
    "    \"Paris is the capital of France.\",\n",
    "    \"Berlin is the capital of Germany.\",\n",
    "    \"Madrid is the capital of Spain.\"    \n",
    "]"
   ]
  },
  {
   "cell_type": "code",
   "execution_count": 15,
   "id": "d8204022",
   "metadata": {},
   "outputs": [
    {
     "name": "stdout",
     "output_type": "stream",
     "text": [
      "[0.9997274  0.03096339 0.02810255]\n",
      "The most relevant passage is: Paris is the capital of France.\n"
     ]
    }
   ],
   "source": [
    "scores = model.predict([(question, answers[0]), (question, answers[1]),\n",
    "                        (question, answers[2])])\n",
    "print(scores)\n",
    "most_relevant_idx = torch.argmax(torch.tensor(scores)).item()\n",
    "print(f\"The most relevant passage is: {answers[most_relevant_idx]}\")"
   ]
  },
  {
   "cell_type": "code",
   "execution_count": null,
   "id": "afc18d55",
   "metadata": {},
   "outputs": [],
   "source": []
  }
 ],
 "metadata": {
  "kernelspec": {
   "display_name": "Python 3 (ipykernel)",
   "language": "python",
   "name": "python3"
  },
  "language_info": {
   "codemirror_mode": {
    "name": "ipython",
    "version": 3
   },
   "file_extension": ".py",
   "mimetype": "text/x-python",
   "name": "python",
   "nbconvert_exporter": "python",
   "pygments_lexer": "ipython3",
   "version": "3.9.13"
  }
 },
 "nbformat": 4,
 "nbformat_minor": 5
}
