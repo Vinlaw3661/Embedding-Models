{
 "cells": [
  {
   "cell_type": "markdown",
   "id": "f4f2a694",
   "metadata": {},
   "source": [
    "# Inference"
   ]
  },
  {
   "cell_type": "code",
   "execution_count": 1,
   "id": "ad7263d2",
   "metadata": {},
   "outputs": [],
   "source": [
    "# Warning control\n",
    "import warnings\n",
    "warnings.filterwarnings('ignore')"
   ]
  },
  {
   "cell_type": "code",
   "execution_count": 2,
   "id": "781dfa83",
   "metadata": {},
   "outputs": [],
   "source": [
    "import numpy as np\n",
    "\n",
    "from sentence_transformers import SentenceTransformer\n",
    "from transformers import AutoTokenizer, \\\n",
    "                         DPRContextEncoder, DPRQuestionEncoder\n",
    "\n",
    "import logging\n",
    "logging.getLogger(\"transformers.modeling_utils\").setLevel(logging.ERROR)"
   ]
  },
  {
   "cell_type": "code",
   "execution_count": 9,
   "id": "a25dc878",
   "metadata": {},
   "outputs": [],
   "source": [
    "def cosine_similarity_matrix(features):\n",
    "    norms = np.linalg.norm(features, axis=1, keepdims=True)\n",
    "    normalized_features = features / norms\n",
    "    similarity_matrix = np.inner(normalized_features, normalized_features)\n",
    "    rounded_similarity_matrix = np.round(similarity_matrix, 4)\n",
    "    return rounded_similarity_matrix"
   ]
  },
  {
   "cell_type": "code",
   "execution_count": 6,
   "id": "b5dacdb4",
   "metadata": {},
   "outputs": [],
   "source": [
    "answers = [\n",
    "    \"What is the tallest mountain in the world?\",\n",
    "    \"The tallest mountain in the world is Mount Everest.\",\n",
    "    \"Mount Shasta\",\n",
    "    \"I like my hike in the mountains\",\n",
    "    \"I am going to a yoga class\"\n",
    "]\n",
    "\n",
    "question = 'What is the tallest mountain in the world?'"
   ]
  },
  {
   "cell_type": "code",
   "execution_count": 5,
   "id": "676abaca",
   "metadata": {},
   "outputs": [],
   "source": [
    "answer_tokenizer = AutoTokenizer \\\n",
    "                   .from_pretrained(\"./models/facebook/dpr-ctx_encoder-multiset-base\")\n",
    "answer_encoder = DPRContextEncoder \\\n",
    "                   .from_pretrained(\"./models/facebook/dpr-ctx_encoder-multiset-base\")\n",
    "\n",
    "question_tokenizer = AutoTokenizer \\\n",
    "                   .from_pretrained(\"./models/facebook/dpr-question_encoder-multiset-base\")\n",
    "question_encoder = DPRQuestionEncoder \\\n",
    "                   .from_pretrained(\"./models/facebook/dpr-question_encoder-multiset-base\")\n"
   ]
  },
  {
   "cell_type": "code",
   "execution_count": 7,
   "id": "a7015fee",
   "metadata": {},
   "outputs": [
    {
     "name": "stdout",
     "output_type": "stream",
     "text": [
      "[0.07758226245641708, 0.25172531604766846, 0.1866397261619568, 0.22120125591754913, 0.026415448635816574, -0.15785615146160126, 0.3276028037071228, 0.2673284113407135, -0.0850304365158081, 0.1292944997549057] 768\n"
     ]
    }
   ],
   "source": [
    "# Compute the question embeddings\n",
    "question_tokens = question_tokenizer(question, return_tensors=\"pt\")[\"input_ids\"]\n",
    "question_embedding = question_encoder(question_tokens).pooler_output.flatten().tolist()\n",
    "print(question_embedding[:10], len(question_embedding))"
   ]
  },
  {
   "cell_type": "code",
   "execution_count": 10,
   "id": "500fbf36",
   "metadata": {},
   "outputs": [
    {
     "name": "stdout",
     "output_type": "stream",
     "text": [
      "[0.6253, 0.7472, 0.5506, 0.3687, 0.25]\n",
      "Question = What is the tallest mountain in the world?\n",
      "Best answer = The tallest mountain in the world is Mount Everest.\n"
     ]
    }
   ],
   "source": [
    "sim = []\n",
    "for answer in answers:\n",
    "    answer_tokens = answer_tokenizer(answer, return_tensors=\"pt\")[\"input_ids\"]\n",
    "    answer_embedding = answer_encoder(answer_tokens).pooler_output.flatten().tolist() \n",
    "    sim.append(cosine_similarity_matrix(np.stack([question_embedding, answer_embedding]))[0,1])\n",
    "\n",
    "print(sim)\n",
    "best_inx = np.argmax(sim)\n",
    "print(f\"Question = {question}\")\n",
    "print(f\"Best answer = {answers[best_inx]}\")"
   ]
  },
  {
   "cell_type": "code",
   "execution_count": null,
   "id": "57095f08",
   "metadata": {},
   "outputs": [],
   "source": []
  }
 ],
 "metadata": {
  "kernelspec": {
   "display_name": "Python 3 (ipykernel)",
   "language": "python",
   "name": "python3"
  },
  "language_info": {
   "codemirror_mode": {
    "name": "ipython",
    "version": 3
   },
   "file_extension": ".py",
   "mimetype": "text/x-python",
   "name": "python",
   "nbconvert_exporter": "python",
   "pygments_lexer": "ipython3",
   "version": "3.9.13"
  }
 },
 "nbformat": 4,
 "nbformat_minor": 5
}
